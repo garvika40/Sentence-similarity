{
 "cells": [
  {
   "cell_type": "code",
   "execution_count": 61,
   "metadata": {},
   "outputs": [],
   "source": [
    "#Steepest descent "
   ]
  },
  {
   "cell_type": "code",
   "execution_count": 62,
   "metadata": {},
   "outputs": [],
   "source": [
    "import numpy as np"
   ]
  },
  {
   "cell_type": "code",
   "execution_count": 63,
   "metadata": {},
   "outputs": [],
   "source": [
    "\n",
    "\n",
    "def steepest(Q,b,x0,epsilon):\n",
    "    x_star=x0\n",
    "    iterations=0\n",
    "    while True:\n",
    "        gk=np.dot(Q,x_star)-b\n",
    "        if np.linalg.norm(gk)<=epsilon:\n",
    "            break\n",
    "        d=-gk\n",
    "        alpha=np.dot(d.T,d)/np.dot(np.dot(d.T,Q),d)\n",
    "        x_new=x_star+alpha*d\n",
    "        x_star=x_new\n",
    "        iterations+=1\n",
    "    return x_star, iterations\n",
    "\n",
    "\n"
   ]
  },
  {
   "cell_type": "code",
   "execution_count": 64,
   "metadata": {},
   "outputs": [
    {
     "data": {
      "text/plain": [
       "(array([[0.01999258],\n",
       "        [1.25085525]]),\n",
       " 9)"
      ]
     },
     "execution_count": 64,
     "metadata": {},
     "output_type": "execute_result"
    }
   ],
   "source": [
    "Q1 = np.array([[50,0],[0,4]])\n",
    "b1 = np.array([[1],[5]])\n",
    "x0 = np.array([[5],[8]])\n",
    "steepest(Q1,b1,x0,0.01)"
   ]
  },
  {
   "cell_type": "code",
   "execution_count": 65,
   "metadata": {},
   "outputs": [
    {
     "name": "stdout",
     "output_type": "stream",
     "text": [
      "Convergence iterations (Default): 9\n",
      "Convergence iterations (Changed Q): 6\n",
      "Convergence iterations (Changed b): 9\n",
      "Convergence iterations (Changed x0): 7\n"
     ]
    }
   ],
   "source": [
    "\n",
    "# Example 1: Default Q, b, x0\n",
    "Q1 = np.array([[50,0],[0,4]])\n",
    "b1 = np.array([[1],[5]])\n",
    "x0 = np.array([[5],[8]])\n",
    "convergence_iterations_default = steepest(Q1, b1, x0, 0.01)[1]\n",
    "\n",
    "# Example 2: Changing Q\n",
    "Q2 = np.array([[500,0],[0,4]])\n",
    "convergence_iterations_changed_Q = steepest(Q2, b1, x0, 0.01)[1]\n",
    "\n",
    "# Example 3: Changing b\n",
    "b2 = np.array([[10],[5]])\n",
    "convergence_iterations_changed_b = steepest(Q1, b2, x0, 0.01)[1]\n",
    "\n",
    "# Example 4: Changing x0\n",
    "x0_new = np.array([[10],[10]])\n",
    "convergence_iterations_changed_x0 = steepest(Q1, b1, x0_new, 0.01)[1]\n",
    "\n",
    "print(\"Convergence iterations (Default):\", convergence_iterations_default)\n",
    "print(\"Convergence iterations (Changed Q):\", convergence_iterations_changed_Q)\n",
    "print(\"Convergence iterations (Changed b):\", convergence_iterations_changed_b)\n",
    "print(\"Convergence iterations (Changed x0):\", convergence_iterations_changed_x0)\n"
   ]
  },
  {
   "cell_type": "code",
   "execution_count": 72,
   "metadata": {},
   "outputs": [],
   "source": [
    "#newtos method\n",
    "def newtons(f,dx,d2x,x0,epsilon):\n",
    "    x_star=x0\n",
    "    iterations=0\n",
    "    while True:\n",
    "        gk=np.array(dx(x_star))\n",
    "        d=(-gk)\n",
    "        if np.linalg.norm(d)<=epsilon:\n",
    "            break\n",
    "        hess=np.array(d2x(x_star))\n",
    "        hess_inv=np.linalg.inv(hess)\n",
    "        x_new = x_star + hess_inv@d\n",
    "        x_star=x_new\n",
    "        iterations+=1\n",
    "    return x_star, iterations\n"
   ]
  },
  {
   "cell_type": "code",
   "execution_count": 73,
   "metadata": {},
   "outputs": [
    {
     "data": {
      "text/plain": [
       "(array([ 0.625, -0.625]), 1)"
      ]
     },
     "execution_count": 73,
     "metadata": {},
     "output_type": "execute_result"
    }
   ],
   "source": [
    "x = np.array([1, -1])\n",
    "epsilon = 0.01\n",
    "\n",
    "def f(x):\n",
    "    return 5**x[0] + 2*x[0]*x[1] + x[1]**2 - 5*x[0] + 3\n",
    "\n",
    "def df(x):\n",
    "    return [10*x[0] + 2*x[1] - 5, 2*x[0] + 2*x[1]]\n",
    "\n",
    "def d2f(x):\n",
    "    return [[10, 2], [2, 2]]\n",
    "\n",
    "newtons(f,df,d2f,x,epsilon)"
   ]
  },
  {
   "cell_type": "code",
   "execution_count": 74,
   "metadata": {},
   "outputs": [],
   "source": [
    "import numpy as np\n",
    "\n",
    "def newtons(f, df, d2f, x0, epsilon):\n",
    "    x_star = x0\n",
    "    iterations = 0\n",
    "    while True:\n",
    "        gk = df(x_star)\n",
    "        d = -gk\n",
    "        if np.linalg.norm(gk) <= epsilon:\n",
    "            break\n",
    "        hess = d2f(x_star)\n",
    "        hess_inv = 1 / hess  # Inverse of the Hessian, since it's a scalar in this case\n",
    "        x_new = x_star + hess_inv * d\n",
    "        x_star = x_new\n",
    "        iterations += 1\n",
    "    return x_star, iterations\n",
    "\n"
   ]
  },
  {
   "cell_type": "code",
   "execution_count": 79,
   "metadata": {},
   "outputs": [
    {
     "data": {
      "text/plain": [
       "(1.0, 1)"
      ]
     },
     "execution_count": 79,
     "metadata": {},
     "output_type": "execute_result"
    }
   ],
   "source": [
    "x = 10\n",
    "epsilon = 0.05\n",
    "\n",
    "def f(x):\n",
    "    return (x-1)**2\n",
    "\n",
    "def df(x):\n",
    "    return 2*(x-1)\n",
    "\n",
    "def d2f(x):\n",
    "    return 2\n",
    "\n",
    "newtons(f,df,d2f,x,epsilon)"
   ]
  },
  {
   "cell_type": "code",
   "execution_count": 117,
   "metadata": {},
   "outputs": [],
   "source": [
    "#Golden section\n",
    "def Golden(f,a0,b0,epsilon):\n",
    "    rho=(3-5**0.5)/2\n",
    "    a_temp=a0+rho*(b0-a0)\n",
    "    b_temp=a0+(1-rho)*(b0-a0)\n",
    " \n",
    "    while True:\n",
    "        if abs(b0-a0)<=epsilon:\n",
    "            break\n",
    "        if f(a_temp)<=f(b_temp):\n",
    "            b0=b_temp\n",
    "            b_temp=a_temp   \n",
    "            a_temp=a0+rho*(b0-a0)\n",
    "        else:\n",
    "            a0=a_temp\n",
    "            a_temp = b_temp\n",
    "            b_temp=a0+(1-rho)*(b0-a0)\n",
    "    return b0,a0\n",
    "\n",
    "    \n"
   ]
  },
  {
   "cell_type": "code",
   "execution_count": 121,
   "metadata": {},
   "outputs": [
    {
     "name": "stdout",
     "output_type": "stream",
     "text": [
      "(0.9442719099991589, 0.6524758424985279)\n"
     ]
    }
   ],
   "source": [
    "def f1(x):\n",
    "    return x**4-14*x**3+60*x**2-70*x\n",
    "\n",
    "epsilon=0.3\n",
    "a0=0\n",
    "b0=2\n",
    "xstarf1 = Golden(f1,a0,b0,epsilon)\n",
    "print(xstarf1) # You should obtain a number close to 1. Try with different values of epsilon.\n",
    "\n"
   ]
  },
  {
   "cell_type": "code",
   "execution_count": 128,
   "metadata": {},
   "outputs": [],
   "source": [
    "def fibonacci(n):\n",
    "    fn = [0, 1]\n",
    "    for i in range(2, n + 1):\n",
    "        fn.append(fn[i - 1] + fn[i - 2])\n",
    "    return fn\n"
   ]
  },
  {
   "cell_type": "code",
   "execution_count": 129,
   "metadata": {},
   "outputs": [
    {
     "data": {
      "text/plain": [
       "[0, 1, 1, 2, 3, 5]"
      ]
     },
     "execution_count": 129,
     "metadata": {},
     "output_type": "execute_result"
    }
   ],
   "source": [
    "fibonacci(5)"
   ]
  },
  {
   "cell_type": "code",
   "execution_count": 196,
   "metadata": {},
   "outputs": [],
   "source": [
    "def fbb(f, n, a0, b0, epsilon):\n",
    "    fn = [0, 1]\n",
    "    for i in range(2, n + 1):\n",
    "        fn.append(fn[i - 1] + fn[i - 2])\n",
    "    \n",
    "\n",
    "    while n >= 2:\n",
    "        rho = (fn[n - 2] / fn[n])\n",
    "    \n",
    "        a_temp = a0 + rho * (b0 - a0)\n",
    "        b_temp = a0 + (1 - rho) * (b0 - a0)\n",
    "\n",
    "\n",
    "        while True:\n",
    "            if abs(b0 - a0) <= epsilon:\n",
    "                break\n",
    "            if f(a_temp) <= f(b_temp):\n",
    "                b0 = b_temp\n",
    "                b_temp = a_temp\n",
    "                a_temp = a0 + rho * (b0 - a0)\n",
    "            else:\n",
    "                a0 = a_temp\n",
    "                a_temp = b_temp\n",
    "                b_temp = a0 + (1 - rho) * (b0 - a0)\n",
    "\n",
    "        n -= 1\n",
    "\n",
    "    return b0,a0\n"
   ]
  },
  {
   "cell_type": "code",
   "execution_count": 199,
   "metadata": {},
   "outputs": [
    {
     "ename": "NameError",
     "evalue": "name 'theta' is not defined",
     "output_type": "error",
     "traceback": [
      "\u001b[1;31m---------------------------------------------------------------------------\u001b[0m",
      "\u001b[1;31mNameError\u001b[0m                                 Traceback (most recent call last)",
      "Cell \u001b[1;32mIn[199], line 13\u001b[0m\n\u001b[0;32m     11\u001b[0m pm_sum \u001b[38;5;241m=\u001b[39m \u001b[38;5;241m0\u001b[39m\n\u001b[0;32m     12\u001b[0m \u001b[38;5;28;01mfor\u001b[39;00m m \u001b[38;5;129;01min\u001b[39;00m \u001b[38;5;28mrange\u001b[39m(X\u001b[38;5;241m.\u001b[39mshape[\u001b[38;5;241m1\u001b[39m]):\n\u001b[1;32m---> 13\u001b[0m     pm_sum \u001b[38;5;241m+\u001b[39m\u001b[38;5;241m=\u001b[39m np\u001b[38;5;241m.\u001b[39mdot(X[:, m], np\u001b[38;5;241m.\u001b[39mdot(X[:, m], \u001b[43mtheta\u001b[49m[m]))\n\u001b[0;32m     15\u001b[0m \u001b[38;5;66;03m# Calculate pm\u001b[39;00m\n\u001b[0;32m     16\u001b[0m pm \u001b[38;5;241m=\u001b[39m np\u001b[38;5;241m.\u001b[39mzeros(X\u001b[38;5;241m.\u001b[39mshape[\u001b[38;5;241m1\u001b[39m])\n",
      "\u001b[1;31mNameError\u001b[0m: name 'theta' is not defined"
     ]
    }
   ],
   "source": [
    "import numpy as np\n",
    "\n",
    "# Data\n",
    "X = np.array([[1], [2]])\n",
    "y = np.array([3])\n",
    "\n",
    "# Lasso parameters\n",
    "lam = 0.1  # Regularization parameter\n",
    "\n",
    "# Calculate pm_sum\n",
    "pm_sum = 0\n",
    "for m in range(X.shape[1]):\n",
    "    pm_sum += np.dot(X[:, m], np.dot(X[:, m], theta[m]))\n",
    "\n",
    "# Calculate pm\n",
    "pm = np.zeros(X.shape[1])\n",
    "for m in range(X.shape[1]):\n",
    "    pm[m] = pm_sum - 2 * np.dot(y.T, X[:, m])\n",
    "\n",
    "# Update coefficients using the provided formula\n",
    "theta = np.zeros(X.shape[1])\n",
    "for m in range(X.shape[1]):\n",
    "    if pm[m] < -lam/2:\n",
    "        t = -(pm[m] + lam) / (2 * np.dot(X[:, m].T, X[:, m]))\n",
    "        theta[m] = t\n",
    "    elif pm[m] > lam/2:\n",
    "        t = (lam - pm[m]) / (2 * np.dot(X[:, m].T, X[:, m]))\n",
    "        theta[m] = t\n",
    "    elif abs(pm[m]) < lam/2:\n",
    "        t = 0\n",
    "        theta[m] = t\n",
    "\n",
    "# Extract coefficients a and b\n",
    "a = theta[0]  # Coefficient for x\n",
    "b = theta[1]  # Intercept\n",
    "\n",
    "print(\"Lasso coefficients:\")\n",
    "print(\"a:\", a)\n",
    "print(\"b:\", b)\n"
   ]
  },
  {
   "cell_type": "code",
   "execution_count": 197,
   "metadata": {},
   "outputs": [],
   "source": [
    "def f1(x):\n",
    "    return x**4-14*x**3+60*x**2-70*x"
   ]
  },
  {
   "cell_type": "code",
   "execution_count": 198,
   "metadata": {},
   "outputs": [
    {
     "data": {
      "text/plain": [
       "(0.9119999999999999, 0.6527999999999999)"
      ]
     },
     "execution_count": 198,
     "metadata": {},
     "output_type": "execute_result"
    }
   ],
   "source": [
    "fbb(f1,5,0,2,0.3)"
   ]
  },
  {
   "cell_type": "code",
   "execution_count": null,
   "metadata": {},
   "outputs": [],
   "source": []
  }
 ],
 "metadata": {
  "kernelspec": {
   "display_name": "Python 3",
   "language": "python",
   "name": "python3"
  },
  "language_info": {
   "codemirror_mode": {
    "name": "ipython",
    "version": 3
   },
   "file_extension": ".py",
   "mimetype": "text/x-python",
   "name": "python",
   "nbconvert_exporter": "python",
   "pygments_lexer": "ipython3",
   "version": "3.9.0"
  }
 },
 "nbformat": 4,
 "nbformat_minor": 2
}
